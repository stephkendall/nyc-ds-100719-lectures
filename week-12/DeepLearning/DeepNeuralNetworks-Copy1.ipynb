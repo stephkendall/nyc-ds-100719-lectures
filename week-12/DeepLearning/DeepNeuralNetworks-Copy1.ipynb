{
 "cells": [
  {
   "cell_type": "markdown",
   "metadata": {},
   "source": [
    "# Starting Off\n",
    "\n",
    "How does sklearn utilize numpy?\n",
    "- numpy arrays to optimize model (faster)\n"
   ]
  },
  {
   "cell_type": "markdown",
   "metadata": {},
   "source": [
    "# How to build a Deep Neural Network with Python"
   ]
  },
  {
   "cell_type": "markdown",
   "metadata": {},
   "source": [
    "## Model building steps:\n",
    "\n",
    "1. Specify Architecture\n",
    "\n",
    "2. Compile\n",
    "\n",
    "3. Fit \n",
    "\n",
    "4. Predict"
   ]
  },
  {
   "cell_type": "markdown",
   "metadata": {},
   "source": [
    "## Specify the architecture"
   ]
  },
  {
   "cell_type": "code",
   "execution_count": null,
   "metadata": {},
   "outputs": [],
   "source": [
    "#instantiate the model (Sequential & Dense are classes)\n",
    "model = Sequential()\n",
    "#create a hidden layer and the input layer, 100 neurons\n",
    "model.add(Dense(100, activation='relu', input_shape = (n_cols,)))\n",
    "#add one hidden layer\n",
    "model.add(Dense(100, activation='relu'))\n",
    "#add the final layer\n",
    "model.add(Dense(1))"
   ]
  },
  {
   "cell_type": "markdown",
   "metadata": {},
   "source": [
    "## Compiling a model \n",
    "\n",
    "- Specify the optimizer\n",
    "    - Many options and mathematically complex\n",
    "    - “Adam” is usually a good choice \n",
    "- Loss function\n",
    "    - “mean_squared_error” common for regression"
   ]
  },
  {
   "cell_type": "code",
   "execution_count": null,
   "metadata": {},
   "outputs": [],
   "source": [
    "model.compile(optimizer='adam', loss='mean_squared_error')"
   ]
  },
  {
   "cell_type": "markdown",
   "metadata": {},
   "source": [
    "## Fitting a model\n",
    "\n",
    "- Applying backpropagation and gradient descent with your data to update the weights\n",
    "- Scaling data before fi!ing can ease optimization"
   ]
  },
  {
   "cell_type": "code",
   "execution_count": null,
   "metadata": {},
   "outputs": [],
   "source": [
    "# Train neural network\n",
    "model.fit(features, # Features\n",
    "                      target, # Target\n",
    "                      epochs=15, # Number of epochs\n",
    "                      verbose=2, # Some output\n",
    "                      batch_size=100, # Number of observations per batch\n",
    "                      validation_data=(X_test, y_test)) # Data for evaluation"
   ]
  },
  {
   "cell_type": "code",
   "execution_count": null,
   "metadata": {},
   "outputs": [],
   "source": [
    "model.predict(features)"
   ]
  },
  {
   "cell_type": "markdown",
   "metadata": {},
   "source": [
    "## Applied:Create a Regression NN"
   ]
  },
  {
   "cell_type": "code",
   "execution_count": 1,
   "metadata": {},
   "outputs": [
    {
     "name": "stderr",
     "output_type": "stream",
     "text": [
      "Using TensorFlow backend.\n"
     ]
    }
   ],
   "source": [
    "# Import necessary modules\n",
    "import keras\n",
    "from keras.layers import Dense\n",
    "from keras.models import Sequential\n",
    "import pandas as pd"
   ]
  },
  {
   "cell_type": "markdown",
   "metadata": {},
   "source": [
    "- Store the number of columns in the predictors data to `n_cols`. This has been done for you.\n",
    "- Start by creating a `Sequential` model called `model`.\n",
    "- Use the `.add()` method on `model` to add a `Dense` layer.\n",
    "- Add 50 units, specify `activation='relu'`, and the `input_shape` parameter to be the tuple `(n_cols,)` which means it has `n_cols` items in each row of data, and any number of rows of data are acceptable as inputs.\n",
    "- Add another `Dense` layer. This should have 32 units and a 'relu' activation.\n",
    "- Finally, add an output layer, which is a `Dense` layer with a single node. Don't use any activation function here."
   ]
  },
  {
   "cell_type": "markdown",
   "metadata": {},
   "source": [
    "- Compile the model using `model.compile()`. Your `optimizer` should be `'adam'` and the `loss` should be `'mean_squared_error'`."
   ]
  },
  {
   "cell_type": "markdown",
   "metadata": {},
   "source": [
    "- Fit the `model`. Remember that the first argument is the predictive features (`predictors`), and the data to be predicted (`target`) is the second argument."
   ]
  },
  {
   "cell_type": "markdown",
   "metadata": {},
   "source": [
    "## Classification Models\n",
    "\n",
    "\n",
    "- ‘categorical_crossentropy’ loss function Similar to log loss: Lower is be!er\n",
    "- Add metrics = [‘accuracy’] to compile step for easy-to- understand diagnostics\n",
    "- Output layer has separate node for each possible outcome, and uses ‘so\"max’ activation"
   ]
  },
  {
   "cell_type": "code",
   "execution_count": 2,
   "metadata": {},
   "outputs": [
    {
     "data": {
      "text/html": [
       "<div>\n",
       "<style scoped>\n",
       "    .dataframe tbody tr th:only-of-type {\n",
       "        vertical-align: middle;\n",
       "    }\n",
       "\n",
       "    .dataframe tbody tr th {\n",
       "        vertical-align: top;\n",
       "    }\n",
       "\n",
       "    .dataframe thead th {\n",
       "        text-align: right;\n",
       "    }\n",
       "</style>\n",
       "<table border=\"1\" class=\"dataframe\">\n",
       "  <thead>\n",
       "    <tr style=\"text-align: right;\">\n",
       "      <th></th>\n",
       "      <th>Survived</th>\n",
       "      <th>Pclass</th>\n",
       "      <th>Age</th>\n",
       "      <th>SibSp</th>\n",
       "      <th>Parch</th>\n",
       "      <th>Fare</th>\n",
       "      <th>youngin</th>\n",
       "      <th>male</th>\n",
       "      <th>Q</th>\n",
       "      <th>S</th>\n",
       "    </tr>\n",
       "    <tr>\n",
       "      <th>PassengerId</th>\n",
       "      <th></th>\n",
       "      <th></th>\n",
       "      <th></th>\n",
       "      <th></th>\n",
       "      <th></th>\n",
       "      <th></th>\n",
       "      <th></th>\n",
       "      <th></th>\n",
       "      <th></th>\n",
       "      <th></th>\n",
       "    </tr>\n",
       "  </thead>\n",
       "  <tbody>\n",
       "    <tr>\n",
       "      <th>1</th>\n",
       "      <td>0</td>\n",
       "      <td>3</td>\n",
       "      <td>22.0</td>\n",
       "      <td>1</td>\n",
       "      <td>0</td>\n",
       "      <td>7.2500</td>\n",
       "      <td>0</td>\n",
       "      <td>1</td>\n",
       "      <td>0</td>\n",
       "      <td>1</td>\n",
       "    </tr>\n",
       "    <tr>\n",
       "      <th>2</th>\n",
       "      <td>1</td>\n",
       "      <td>1</td>\n",
       "      <td>38.0</td>\n",
       "      <td>1</td>\n",
       "      <td>0</td>\n",
       "      <td>71.2833</td>\n",
       "      <td>0</td>\n",
       "      <td>0</td>\n",
       "      <td>0</td>\n",
       "      <td>0</td>\n",
       "    </tr>\n",
       "    <tr>\n",
       "      <th>3</th>\n",
       "      <td>1</td>\n",
       "      <td>3</td>\n",
       "      <td>26.0</td>\n",
       "      <td>0</td>\n",
       "      <td>0</td>\n",
       "      <td>7.9250</td>\n",
       "      <td>0</td>\n",
       "      <td>0</td>\n",
       "      <td>0</td>\n",
       "      <td>1</td>\n",
       "    </tr>\n",
       "    <tr>\n",
       "      <th>4</th>\n",
       "      <td>1</td>\n",
       "      <td>1</td>\n",
       "      <td>35.0</td>\n",
       "      <td>1</td>\n",
       "      <td>0</td>\n",
       "      <td>53.1000</td>\n",
       "      <td>0</td>\n",
       "      <td>0</td>\n",
       "      <td>0</td>\n",
       "      <td>1</td>\n",
       "    </tr>\n",
       "    <tr>\n",
       "      <th>5</th>\n",
       "      <td>0</td>\n",
       "      <td>3</td>\n",
       "      <td>35.0</td>\n",
       "      <td>0</td>\n",
       "      <td>0</td>\n",
       "      <td>8.0500</td>\n",
       "      <td>0</td>\n",
       "      <td>1</td>\n",
       "      <td>0</td>\n",
       "      <td>1</td>\n",
       "    </tr>\n",
       "  </tbody>\n",
       "</table>\n",
       "</div>"
      ],
      "text/plain": [
       "             Survived  Pclass   Age  SibSp  Parch     Fare  youngin  male  Q  \\\n",
       "PassengerId                                                                    \n",
       "1                   0       3  22.0      1      0   7.2500        0     1  0   \n",
       "2                   1       1  38.0      1      0  71.2833        0     0  0   \n",
       "3                   1       3  26.0      0      0   7.9250        0     0  0   \n",
       "4                   1       1  35.0      1      0  53.1000        0     0  0   \n",
       "5                   0       3  35.0      0      0   8.0500        0     1  0   \n",
       "\n",
       "             S  \n",
       "PassengerId     \n",
       "1            1  \n",
       "2            0  \n",
       "3            1  \n",
       "4            1  \n",
       "5            1  "
      ]
     },
     "execution_count": 2,
     "metadata": {},
     "output_type": "execute_result"
    }
   ],
   "source": [
    "df = pd.read_csv('https://raw.githubusercontent.com/learn-co-students/nyc-mhtn-ds-042219-lectures/master/Module_4/cleaned_titanic.csv', index_col=0)\n",
    "df.head()"
   ]
  },
  {
   "cell_type": "code",
   "execution_count": 3,
   "metadata": {},
   "outputs": [],
   "source": [
    "predictors = df.drop(columns=['Survived'])\n",
    "n_cols = predictors.shape[1]"
   ]
  },
  {
   "cell_type": "markdown",
   "metadata": {},
   "source": [
    "- Convert `df.Survived` to a categorical variable using the `to_categorical()` function."
   ]
  },
  {
   "cell_type": "code",
   "execution_count": 4,
   "metadata": {},
   "outputs": [],
   "source": [
    "from keras.utils import to_categorical\n",
    "# Convert the target to categorical: target\n",
    "target = to_categorical(df.Survived)"
   ]
  },
  {
   "cell_type": "code",
   "execution_count": 5,
   "metadata": {},
   "outputs": [],
   "source": [
    "# Import `train_test_split` from `sklearn.model_selection`\n",
    "from sklearn.model_selection import train_test_split\n",
    "\n",
    "\n",
    "# Split the data up in train and test sets\n",
    "X_train, X_test, y_train, y_test = train_test_split(predictors, target, test_size=0.2, random_state=42)"
   ]
  },
  {
   "cell_type": "code",
   "execution_count": 6,
   "metadata": {},
   "outputs": [
    {
     "data": {
      "text/plain": [
       "9"
      ]
     },
     "execution_count": 6,
     "metadata": {},
     "output_type": "execute_result"
    }
   ],
   "source": [
    "n_cols"
   ]
  },
  {
   "cell_type": "markdown",
   "metadata": {},
   "source": [
    "- Specify a `Sequential` model called `model`.\n",
    "- Add a `Dense` layer with 32 nodes. Use `'relu'` as the `activation` and `(n_cols,)` as the `input_shape`.\n",
    "- Add the `Dense` output layer. Because there are two outcomes, it should have 2 units, and because it is a classification model, the `activation` should be `'softmax'`.\n",
    "- Compile the model, using `'sgd'` as the `optimizer`, `'categorical_crossentropy'` as the loss function, and `metrics=['accuracy']` to see the accuracy (what fraction of predictions were correct) at the end of each epoch.\n",
    "- Fit the model using the `X_train` and the `y_train`."
   ]
  },
  {
   "cell_type": "code",
   "execution_count": 7,
   "metadata": {},
   "outputs": [
    {
     "name": "stdout",
     "output_type": "stream",
     "text": [
      "Epoch 1/1\n",
      "711/711 [==============================] - 0s 141us/step - loss: 0.6314 - accuracy: 0.6414\n"
     ]
    },
    {
     "data": {
      "text/plain": [
       "<keras.callbacks.callbacks.History at 0x1a35ad0f60>"
      ]
     },
     "execution_count": 7,
     "metadata": {},
     "output_type": "execute_result"
    }
   ],
   "source": [
    "from keras.utils import to_categorical\n",
    "\n",
    "# Set up the model\n",
    "model = Sequential()\n",
    "\n",
    "# Add the first layer\n",
    "model.add(Dense(32, activation='relu',input_shape=(n_cols,)))\n",
    "\n",
    "#add one hidden layer\n",
    "model.add(Dense(40, activation='relu'))\n",
    "\n",
    "# Add the output layer\n",
    "model.add(Dense(2, activation='sigmoid'))\n",
    "\n",
    "# Compile the model\n",
    "model.compile(optimizer='sgd', loss='categorical_crossentropy', metrics=['accuracy'])\n",
    "\n",
    "# Fit the model\n",
    "model.fit(X_train, y_train)"
   ]
  },
  {
   "cell_type": "markdown",
   "metadata": {},
   "source": [
    "## Saving, reloading and using your Model"
   ]
  },
  {
   "cell_type": "markdown",
   "metadata": {},
   "source": [
    "- Create your predictions using the model's `.predict()` method on `X_test`.\n",
    "- Use NumPy indexing to find the column corresponding to predicted probabilities of survival being True. This is the second column (index `1`) of `predictions`. Store the result in `predicted_prob_true` and print it."
   ]
  },
  {
   "cell_type": "code",
   "execution_count": 8,
   "metadata": {
    "scrolled": true
   },
   "outputs": [
    {
     "name": "stdout",
     "output_type": "stream",
     "text": [
      "[0.3609743  0.9994537  0.8298859  0.61982405 0.9965528  0.34514806\n",
      " 0.7182622  0.5986866  0.9999087  0.9998181  0.9558233  0.88498706\n",
      " 0.12469167 0.79939675 0.43540865 0.95938015 0.99996793 0.41939402\n",
      " 0.9871365  0.46409008 0.96524537 0.99762475 0.19441232 0.96934134\n",
      " 0.47502115 0.96187496 0.45270663 0.5869511  0.9959334  0.56272984\n",
      " 0.98886365 0.43001944 0.47502115 0.9943261  0.9364824  0.99800396\n",
      " 0.7029564  1.         0.5242104  0.47502115 0.8923191  0.44613424\n",
      " 0.7581339  0.40854448 0.96640515 0.9809408  0.9599341  0.40552524\n",
      " 0.5161416  1.         0.80838346 0.5805745  0.5136858  0.9145558\n",
      " 0.88931525 0.96057063 0.31669316 0.21967325 0.74991375 0.45196083\n",
      " 0.58166003 0.71622825 0.99987733 0.76418644 0.5318936  0.84802926\n",
      " 0.13631007 0.9970274  0.99954325 0.9975835  0.68070966 0.9996326\n",
      " 0.8011409  0.43380886 0.7490447  0.88298595 0.6215601  0.24556231\n",
      " 0.6041313  0.9822026  0.17316741 0.9819348  0.78827584 0.43001944\n",
      " 0.8930361  0.4345076  0.1876514  0.7581339  0.39414823 0.47502115\n",
      " 0.31464767 0.65474653 0.4748739  0.28389153 0.9961802  0.8763726\n",
      " 0.46409008 0.33825058 0.690628   0.4345076  0.38270962 0.99999785\n",
      " 0.8102817  0.31257403 0.08689398 0.18629387 0.38658577 0.97084665\n",
      " 0.47518286 0.5832045  0.6929101  0.9959274  0.97087526 0.9972632\n",
      " 0.44573602 0.5766201  0.17366958 0.2696632  0.61064583 0.92801964\n",
      " 0.8059826  0.9996742  0.14682788 0.83234745 0.9987725  0.9997213\n",
      " 0.96934134 0.9984278  0.5150568  0.68957424 0.4751807  0.7884044\n",
      " 0.9991327  0.41910297 0.40536362 0.963562   0.31063837 0.74589676\n",
      " 0.91936386 0.93440115 0.69545233 0.46409008 0.66243875 0.9331212\n",
      " 0.99992335 0.9972083  0.06933105 0.9999886  0.4555503  0.9999643\n",
      " 0.4359204  0.9694511  0.9988619  0.75857604 0.56650805 0.8844929\n",
      " 0.9946624  0.9998708  0.11724359 0.9995955  0.43853483 0.99946356\n",
      " 0.30100214 0.48467395 0.99960244 0.46430552 0.9976773  0.4748739\n",
      " 0.24429756 0.92443705 0.74589676 0.99867344 0.78162503 0.6087421\n",
      " 0.6301849  0.9565871  0.74097544 0.6977207 ]\n"
     ]
    }
   ],
   "source": [
    "# Calculate predictions: predictions\n",
    "predictions = model.predict(X_test)\n",
    "\n",
    "# Calculate predicted probability of survival: predicted_prob_true\n",
    "predicted_prob_true = predictions[:,1]\n",
    "\n",
    "# print predicted_prob_true\n",
    "print(predicted_prob_true)"
   ]
  },
  {
   "cell_type": "markdown",
   "metadata": {},
   "source": [
    "## Verify your model structure"
   ]
  },
  {
   "cell_type": "code",
   "execution_count": 9,
   "metadata": {},
   "outputs": [
    {
     "name": "stdout",
     "output_type": "stream",
     "text": [
      "Model: \"sequential_1\"\n",
      "_________________________________________________________________\n",
      "Layer (type)                 Output Shape              Param #   \n",
      "=================================================================\n",
      "dense_1 (Dense)              (None, 32)                320       \n",
      "_________________________________________________________________\n",
      "dense_2 (Dense)              (None, 40)                1320      \n",
      "_________________________________________________________________\n",
      "dense_3 (Dense)              (None, 2)                 82        \n",
      "=================================================================\n",
      "Total params: 1,722\n",
      "Trainable params: 1,722\n",
      "Non-trainable params: 0\n",
      "_________________________________________________________________\n"
     ]
    }
   ],
   "source": [
    "model.summary()"
   ]
  },
  {
   "cell_type": "markdown",
   "metadata": {},
   "source": [
    "## Let's play with Hyperparameter tuning"
   ]
  },
  {
   "cell_type": "markdown",
   "metadata": {},
   "source": [
    "[Google Playground](https://developers.google.com/machine-learning/crash-course/introduction-to-neural-networks/playground-exercises)"
   ]
  },
  {
   "cell_type": "markdown",
   "metadata": {},
   "source": [
    "## Hyperparameter Tuning \n",
    "\n",
    "    "
   ]
  },
  {
   "cell_type": "markdown",
   "metadata": {},
   "source": [
    "\n",
    "- **Number of Hidden Layers**\n",
    "\n",
    "*For many problems you can start with just one or two hidden layers it will work just fine. For more complex problems, you can gradually ramp up the number of hidden layers until your model starts to over fit. Very complex tasks, like image classification, will need dozens of layers.*\n"
   ]
  },
  {
   "cell_type": "markdown",
   "metadata": {},
   "source": [
    "- **Number of Neurons per layer**\n",
    "\n",
    "*The number of nuerons for the input and output layers are dependent on your data and the task. For hiddne layers, a common practice is to create a funnel with funnel with fewer and fewer neurons per layer.*\n",
    "\n",
    "*In general, you will get more bang for your buck by adding on more layers than adding more neurons.*"
   ]
  },
  {
   "cell_type": "markdown",
   "metadata": {},
   "source": [
    "- **[Activation Functions](https://towardsdatascience.com/exploring-activation-functions-for-neural-networks-73498da59b02)**\n",
    "    - Linear\n",
    "    - Sigmoid\n",
    "    - Softmax\n",
    "    - Tanh\n",
    "    - ReLu\n",
    "    - elu\n",
    "    \n",
    "*In most cases you can use the ReLu activation function (or one of its variants) in the hidden layers. For the output layer, the softmax activation function is generally good for multiclass problems and the sigmouid function for binary classificatin problems. For regression tasks, you can simply use no activation function at all*"
   ]
  },
  {
   "cell_type": "markdown",
   "metadata": {},
   "source": [
    "- [Selecting an optimizer](https://www.dlology.com/blog/quick-notes-on-how-to-choose-optimizer-in-keras/)\n",
    "    - Adam\n",
    "    - SGD\n",
    "    - RMSprop\n",
    "    - Adagrad\n",
    "\n"
   ]
  },
  {
   "cell_type": "markdown",
   "metadata": {},
   "source": [
    "- **Learning Rate**\n",
    "\n",
    "*If you set it too low, training will eventually converge, but it will do so slowly.*\n",
    "*If you set it too high, it might acutally diverge.*\n",
    "*If you set it slightly too high, it will converge at first but miss the local optima.*\n"
   ]
  },
  {
   "cell_type": "markdown",
   "metadata": {},
   "source": [
    "- **Regularization** \n",
    "    - **L1 and L2**\n",
    "    - **Dropout:**\n",
    "        \n",
    "        *Dropout is most popular techniqure for deep neural networks. It is a fairly simple algorithm where at every training step, every neuron has a probability fo being teporarily \"droppedout,\" meaning it will be completely ignored during this traing step, but it may be active during the next step.*\n",
    "    \n",
    "    - [Early Stopping](https://machinelearningmastery.com/how-to-stop-training-deep-neural-networks-at-the-right-time-using-early-stopping/)\n",
    "    \n",
    "    *Just interrupt training whne its performance on the validation set starts dropping*\n",
    "    \n",
    "    \n"
   ]
  },
  {
   "cell_type": "markdown",
   "metadata": {},
   "source": [
    "[Paper on selecting hyperparameters](https://arxiv.org/pdf/1206.5533v2.pdf)"
   ]
  },
  {
   "cell_type": "markdown",
   "metadata": {},
   "source": [
    "# Fitting a Model with Keras"
   ]
  },
  {
   "cell_type": "markdown",
   "metadata": {},
   "source": [
    "## Import  Modules "
   ]
  },
  {
   "cell_type": "code",
   "execution_count": 10,
   "metadata": {},
   "outputs": [],
   "source": [
    "# Create first network with Keras\n",
    "from keras.layers import Dense, Dropout, Activation\n",
    "from keras.callbacks import EarlyStopping, ModelCheckpoint\n",
    "from keras import regularizers\n",
    "from keras.optimizers import SGD\n"
   ]
  },
  {
   "cell_type": "markdown",
   "metadata": {},
   "source": [
    "## Define Model\n",
    "Models in Keras are defined as a sequence of layers.\n",
    "\n",
    "We create a Sequential model and add layers one at a time until we are happy with our network topology."
   ]
  },
  {
   "cell_type": "code",
   "execution_count": 11,
   "metadata": {},
   "outputs": [],
   "source": [
    "network = Sequential()\n",
    "\n",
    "# Add a dropout layer for input layer - needs to happen before Dense layer\n",
    "network.add(Dropout(0.4, input_shape=(n_cols,)))\n",
    "\n",
    "# Add fully connected layer with a ReLU activation function\n",
    "network.add(Dense(units=16, activation='relu'))\n",
    "\n",
    "# Add a dropout layer for previous hidden layer\n",
    "network.add(Dropout(0.4))\n",
    "\n",
    "# # Add fully connected layer with a ReLU activation function\n",
    "# network.add(Dense(units=16, activation='relu'))\n",
    "\n",
    "# # Add a dropout layer for previous hidden layer\n",
    "# network.add(Dropout(0.3))\n",
    "\n",
    "# Add fully connected layer with a ReLU activation function and L2 regularization\n",
    "network.add(Dense(units=16, kernel_regularizer=regularizers.l2(0.03),activation='relu'))\n",
    "\n",
    "#Final Layer\n",
    "network.add(Dense(2, activation='softmax'))"
   ]
  },
  {
   "cell_type": "code",
   "execution_count": 12,
   "metadata": {},
   "outputs": [],
   "source": [
    "network.compile(loss='binary_crossentropy', optimizer='adam', metrics=['accuracy'])"
   ]
  },
  {
   "cell_type": "code",
   "execution_count": 13,
   "metadata": {},
   "outputs": [],
   "source": [
    "# Set callback functions to early stop training and save the best model so far\n",
    "callbacks = [EarlyStopping(monitor='val_loss', patience=3),\n",
    "             ModelCheckpoint(filepath='best_model.h5', monitor='val_loss', save_best_only=True)]"
   ]
  },
  {
   "cell_type": "markdown",
   "metadata": {},
   "source": [
    "## Fit the Model"
   ]
  },
  {
   "cell_type": "code",
   "execution_count": 14,
   "metadata": {},
   "outputs": [
    {
     "name": "stdout",
     "output_type": "stream",
     "text": [
      "Train on 711 samples, validate on 178 samples\n",
      "Epoch 1/100\n",
      " - 0s - loss: 4.5032 - accuracy: 0.4726 - val_loss: 2.8460 - val_accuracy: 0.5730\n",
      "Epoch 2/100\n",
      " - 0s - loss: 3.2844 - accuracy: 0.5232 - val_loss: 1.6843 - val_accuracy: 0.6573\n",
      "Epoch 3/100\n",
      " - 0s - loss: 2.3517 - accuracy: 0.5626 - val_loss: 1.1256 - val_accuracy: 0.6517\n",
      "Epoch 4/100\n",
      " - 0s - loss: 2.0506 - accuracy: 0.5935 - val_loss: 1.2903 - val_accuracy: 0.6124\n",
      "Epoch 5/100\n",
      " - 0s - loss: 1.5552 - accuracy: 0.5921 - val_loss: 1.0025 - val_accuracy: 0.6404\n",
      "Epoch 6/100\n",
      " - 0s - loss: 1.4140 - accuracy: 0.6090 - val_loss: 0.9110 - val_accuracy: 0.6854\n",
      "Epoch 7/100\n",
      " - 0s - loss: 1.3408 - accuracy: 0.5837 - val_loss: 0.9085 - val_accuracy: 0.6854\n",
      "Epoch 8/100\n",
      " - 0s - loss: 1.2165 - accuracy: 0.6118 - val_loss: 0.9364 - val_accuracy: 0.6348\n",
      "Epoch 9/100\n",
      " - 0s - loss: 1.1562 - accuracy: 0.5893 - val_loss: 0.8660 - val_accuracy: 0.7135\n",
      "Epoch 10/100\n",
      " - 0s - loss: 1.1098 - accuracy: 0.6217 - val_loss: 0.8586 - val_accuracy: 0.7022\n",
      "Epoch 11/100\n",
      " - 0s - loss: 1.0538 - accuracy: 0.6217 - val_loss: 0.8481 - val_accuracy: 0.7022\n",
      "Epoch 12/100\n",
      " - 0s - loss: 1.0125 - accuracy: 0.6259 - val_loss: 0.8376 - val_accuracy: 0.6966\n",
      "Epoch 13/100\n",
      " - 0s - loss: 1.0795 - accuracy: 0.6245 - val_loss: 0.8374 - val_accuracy: 0.6966\n",
      "Epoch 14/100\n",
      " - 0s - loss: 1.0114 - accuracy: 0.6034 - val_loss: 0.9698 - val_accuracy: 0.6124\n",
      "Epoch 15/100\n",
      " - 0s - loss: 0.9864 - accuracy: 0.6273 - val_loss: 0.8304 - val_accuracy: 0.6798\n",
      "Epoch 16/100\n",
      " - 0s - loss: 0.9697 - accuracy: 0.6414 - val_loss: 0.8251 - val_accuracy: 0.6910\n",
      "Epoch 17/100\n",
      " - 0s - loss: 0.9994 - accuracy: 0.6245 - val_loss: 0.8072 - val_accuracy: 0.7022\n",
      "Epoch 18/100\n",
      " - 0s - loss: 0.9437 - accuracy: 0.6385 - val_loss: 0.8074 - val_accuracy: 0.7135\n",
      "Epoch 19/100\n",
      " - 0s - loss: 0.9570 - accuracy: 0.6498 - val_loss: 0.8163 - val_accuracy: 0.6629\n",
      "Epoch 20/100\n",
      " - 0s - loss: 0.9001 - accuracy: 0.6174 - val_loss: 0.8080 - val_accuracy: 0.6854\n",
      "Epoch 21/100\n",
      " - 0s - loss: 0.9007 - accuracy: 0.6456 - val_loss: 0.7968 - val_accuracy: 0.7079\n",
      "Epoch 22/100\n",
      " - 0s - loss: 0.9239 - accuracy: 0.6104 - val_loss: 0.8063 - val_accuracy: 0.6854\n",
      "Epoch 23/100\n",
      " - 0s - loss: 0.8839 - accuracy: 0.6371 - val_loss: 0.7901 - val_accuracy: 0.6910\n",
      "Epoch 24/100\n",
      " - 0s - loss: 0.9113 - accuracy: 0.6399 - val_loss: 0.7900 - val_accuracy: 0.6798\n",
      "Epoch 25/100\n",
      " - 0s - loss: 0.8716 - accuracy: 0.6554 - val_loss: 0.7937 - val_accuracy: 0.6517\n",
      "Epoch 26/100\n",
      " - 0s - loss: 0.9278 - accuracy: 0.6484 - val_loss: 0.7791 - val_accuracy: 0.6966\n",
      "Epoch 27/100\n",
      " - 0s - loss: 0.8760 - accuracy: 0.6414 - val_loss: 0.7828 - val_accuracy: 0.6854\n",
      "Epoch 28/100\n",
      " - 0s - loss: 0.8706 - accuracy: 0.6498 - val_loss: 0.7667 - val_accuracy: 0.7191\n",
      "Epoch 29/100\n",
      " - 0s - loss: 0.8658 - accuracy: 0.6385 - val_loss: 0.7730 - val_accuracy: 0.7022\n",
      "Epoch 30/100\n",
      " - 0s - loss: 0.9199 - accuracy: 0.6245 - val_loss: 0.7644 - val_accuracy: 0.7247\n",
      "Epoch 31/100\n",
      " - 0s - loss: 0.8517 - accuracy: 0.6329 - val_loss: 0.7731 - val_accuracy: 0.6404\n",
      "Epoch 32/100\n",
      " - 0s - loss: 0.8106 - accuracy: 0.6470 - val_loss: 0.7584 - val_accuracy: 0.7079\n",
      "Epoch 33/100\n",
      " - 0s - loss: 0.8264 - accuracy: 0.6484 - val_loss: 0.7691 - val_accuracy: 0.6798\n",
      "Epoch 34/100\n",
      " - 0s - loss: 0.8605 - accuracy: 0.6217 - val_loss: 0.7548 - val_accuracy: 0.7079\n",
      "Epoch 35/100\n",
      " - 0s - loss: 0.8355 - accuracy: 0.6329 - val_loss: 0.7853 - val_accuracy: 0.6124\n",
      "Epoch 36/100\n",
      " - 0s - loss: 0.8153 - accuracy: 0.6442 - val_loss: 0.7653 - val_accuracy: 0.6292\n",
      "Epoch 37/100\n",
      " - 0s - loss: 0.8288 - accuracy: 0.6428 - val_loss: 0.7971 - val_accuracy: 0.6124\n",
      "Epoch 38/100\n",
      " - 0s - loss: 0.8271 - accuracy: 0.6399 - val_loss: 0.7574 - val_accuracy: 0.6742\n",
      "Epoch 39/100\n",
      " - 0s - loss: 0.8393 - accuracy: 0.6371 - val_loss: 0.7497 - val_accuracy: 0.7079\n",
      "Epoch 40/100\n",
      " - 0s - loss: 0.8131 - accuracy: 0.6512 - val_loss: 0.7740 - val_accuracy: 0.6124\n",
      "Epoch 41/100\n",
      " - 0s - loss: 0.8092 - accuracy: 0.6428 - val_loss: 0.7247 - val_accuracy: 0.7191\n",
      "Epoch 42/100\n",
      " - 0s - loss: 0.7914 - accuracy: 0.6512 - val_loss: 0.7299 - val_accuracy: 0.7079\n",
      "Epoch 43/100\n",
      " - 0s - loss: 0.7868 - accuracy: 0.6596 - val_loss: 0.7627 - val_accuracy: 0.6124\n",
      "Epoch 44/100\n",
      " - 0s - loss: 0.8084 - accuracy: 0.6470 - val_loss: 0.7417 - val_accuracy: 0.6629\n",
      "Epoch 45/100\n",
      " - 0s - loss: 0.7694 - accuracy: 0.6554 - val_loss: 0.7247 - val_accuracy: 0.7079\n",
      "Epoch 46/100\n",
      " - 0s - loss: 0.7844 - accuracy: 0.6456 - val_loss: 0.7150 - val_accuracy: 0.7022\n",
      "Epoch 47/100\n",
      " - 0s - loss: 0.7983 - accuracy: 0.6385 - val_loss: 0.7310 - val_accuracy: 0.6404\n",
      "Epoch 48/100\n",
      " - 0s - loss: 0.7827 - accuracy: 0.6414 - val_loss: 0.7134 - val_accuracy: 0.7135\n",
      "Epoch 49/100\n",
      " - 0s - loss: 0.7964 - accuracy: 0.6245 - val_loss: 0.7141 - val_accuracy: 0.7303\n",
      "Epoch 50/100\n",
      " - 0s - loss: 0.8227 - accuracy: 0.6343 - val_loss: 0.7308 - val_accuracy: 0.6348\n",
      "Epoch 51/100\n",
      " - 0s - loss: 0.7992 - accuracy: 0.6498 - val_loss: 0.7358 - val_accuracy: 0.6404\n",
      "Epoch 52/100\n",
      " - 0s - loss: 0.7676 - accuracy: 0.6343 - val_loss: 0.7078 - val_accuracy: 0.7135\n",
      "Epoch 53/100\n",
      " - 0s - loss: 0.7824 - accuracy: 0.6399 - val_loss: 0.7065 - val_accuracy: 0.7135\n",
      "Epoch 54/100\n",
      " - 0s - loss: 0.7739 - accuracy: 0.6231 - val_loss: 0.7225 - val_accuracy: 0.6348\n",
      "Epoch 55/100\n",
      " - 0s - loss: 0.7476 - accuracy: 0.6470 - val_loss: 0.7254 - val_accuracy: 0.6236\n",
      "Epoch 56/100\n",
      " - 0s - loss: 0.7784 - accuracy: 0.6596 - val_loss: 0.7080 - val_accuracy: 0.7135\n",
      "Epoch 57/100\n",
      " - 0s - loss: 0.7599 - accuracy: 0.6414 - val_loss: 0.6939 - val_accuracy: 0.7191\n",
      "Epoch 58/100\n",
      " - 0s - loss: 0.7518 - accuracy: 0.6498 - val_loss: 0.6996 - val_accuracy: 0.6910\n",
      "Epoch 59/100\n",
      " - 0s - loss: 0.7583 - accuracy: 0.6540 - val_loss: 0.7141 - val_accuracy: 0.6404\n",
      "Epoch 60/100\n",
      " - 0s - loss: 0.7454 - accuracy: 0.6371 - val_loss: 0.6965 - val_accuracy: 0.7247\n",
      "Epoch 61/100\n",
      " - 0s - loss: 0.7576 - accuracy: 0.6329 - val_loss: 0.7156 - val_accuracy: 0.6236\n",
      "Epoch 62/100\n",
      " - 0s - loss: 0.7435 - accuracy: 0.6428 - val_loss: 0.7205 - val_accuracy: 0.6124\n",
      "Epoch 63/100\n",
      " - 0s - loss: 0.7561 - accuracy: 0.6484 - val_loss: 0.7340 - val_accuracy: 0.6124\n",
      "Epoch 64/100\n",
      " - 0s - loss: 0.7720 - accuracy: 0.6343 - val_loss: 0.7038 - val_accuracy: 0.6910\n",
      "Epoch 65/100\n",
      " - 0s - loss: 0.7281 - accuracy: 0.6385 - val_loss: 0.6954 - val_accuracy: 0.6910\n",
      "Epoch 66/100\n",
      " - 0s - loss: 0.7271 - accuracy: 0.6596 - val_loss: 0.7063 - val_accuracy: 0.6236\n",
      "Epoch 67/100\n",
      " - 0s - loss: 0.7132 - accuracy: 0.6723 - val_loss: 0.6813 - val_accuracy: 0.7079\n",
      "Epoch 68/100\n",
      " - 0s - loss: 0.7222 - accuracy: 0.6568 - val_loss: 0.6846 - val_accuracy: 0.6854\n",
      "Epoch 69/100\n",
      " - 0s - loss: 0.7365 - accuracy: 0.6568 - val_loss: 0.7042 - val_accuracy: 0.6180\n",
      "Epoch 70/100\n",
      " - 0s - loss: 0.7356 - accuracy: 0.6343 - val_loss: 0.6955 - val_accuracy: 0.6236\n",
      "Epoch 71/100\n",
      " - 0s - loss: 0.7253 - accuracy: 0.6526 - val_loss: 0.6930 - val_accuracy: 0.6180\n",
      "Epoch 72/100\n",
      " - 0s - loss: 0.7259 - accuracy: 0.6540 - val_loss: 0.7138 - val_accuracy: 0.6124\n",
      "Epoch 73/100\n",
      " - 0s - loss: 0.7275 - accuracy: 0.6526 - val_loss: 0.6730 - val_accuracy: 0.7022\n",
      "Epoch 74/100\n",
      " - 0s - loss: 0.7455 - accuracy: 0.6498 - val_loss: 0.6686 - val_accuracy: 0.7303\n",
      "Epoch 75/100\n",
      " - 0s - loss: 0.7088 - accuracy: 0.6695 - val_loss: 0.6724 - val_accuracy: 0.6685\n",
      "Epoch 76/100\n",
      " - 0s - loss: 0.7286 - accuracy: 0.6456 - val_loss: 0.7009 - val_accuracy: 0.6124\n",
      "Epoch 77/100\n",
      " - 0s - loss: 0.7316 - accuracy: 0.6343 - val_loss: 0.6712 - val_accuracy: 0.7079\n",
      "Epoch 78/100\n",
      " - 0s - loss: 0.7094 - accuracy: 0.6596 - val_loss: 0.6732 - val_accuracy: 0.7079\n",
      "Epoch 79/100\n",
      " - 0s - loss: 0.7138 - accuracy: 0.6667 - val_loss: 0.6685 - val_accuracy: 0.6966\n",
      "Epoch 80/100\n",
      " - 0s - loss: 0.7013 - accuracy: 0.6610 - val_loss: 0.6714 - val_accuracy: 0.6517\n",
      "Epoch 81/100\n",
      " - 0s - loss: 0.7127 - accuracy: 0.6371 - val_loss: 0.6633 - val_accuracy: 0.7303\n",
      "Epoch 82/100\n",
      " - 0s - loss: 0.7176 - accuracy: 0.6470 - val_loss: 0.6626 - val_accuracy: 0.6966\n",
      "Epoch 83/100\n",
      " - 0s - loss: 0.7044 - accuracy: 0.6526 - val_loss: 0.6700 - val_accuracy: 0.7135\n",
      "Epoch 84/100\n",
      " - 0s - loss: 0.6972 - accuracy: 0.6470 - val_loss: 0.6633 - val_accuracy: 0.7191\n",
      "Epoch 85/100\n",
      " - 0s - loss: 0.7005 - accuracy: 0.6653 - val_loss: 0.6678 - val_accuracy: 0.6798\n",
      "Epoch 86/100\n",
      " - 0s - loss: 0.7083 - accuracy: 0.6526 - val_loss: 0.6614 - val_accuracy: 0.6910\n"
     ]
    },
    {
     "name": "stdout",
     "output_type": "stream",
     "text": [
      "Epoch 87/100\n",
      " - 0s - loss: 0.7071 - accuracy: 0.6512 - val_loss: 0.6736 - val_accuracy: 0.6236\n",
      "Epoch 88/100\n",
      " - 0s - loss: 0.7028 - accuracy: 0.6414 - val_loss: 0.6726 - val_accuracy: 0.6292\n",
      "Epoch 89/100\n",
      " - 0s - loss: 0.7074 - accuracy: 0.6428 - val_loss: 0.6524 - val_accuracy: 0.7135\n",
      "Epoch 90/100\n",
      " - 0s - loss: 0.7237 - accuracy: 0.6287 - val_loss: 0.6782 - val_accuracy: 0.6124\n",
      "Epoch 91/100\n",
      " - 0s - loss: 0.6918 - accuracy: 0.6639 - val_loss: 0.6594 - val_accuracy: 0.6742\n",
      "Epoch 92/100\n",
      " - 0s - loss: 0.7014 - accuracy: 0.6414 - val_loss: 0.6614 - val_accuracy: 0.6854\n",
      "Epoch 93/100\n",
      " - 0s - loss: 0.7035 - accuracy: 0.6329 - val_loss: 0.6478 - val_accuracy: 0.7247\n",
      "Epoch 94/100\n",
      " - 0s - loss: 0.6951 - accuracy: 0.6498 - val_loss: 0.6694 - val_accuracy: 0.6180\n",
      "Epoch 95/100\n",
      " - 0s - loss: 0.6899 - accuracy: 0.6399 - val_loss: 0.6639 - val_accuracy: 0.7135\n",
      "Epoch 96/100\n",
      " - 0s - loss: 0.7197 - accuracy: 0.6188 - val_loss: 0.6735 - val_accuracy: 0.6180\n",
      "Epoch 97/100\n",
      " - 0s - loss: 0.6871 - accuracy: 0.6582 - val_loss: 0.6667 - val_accuracy: 0.6292\n",
      "Epoch 98/100\n",
      " - 0s - loss: 0.6867 - accuracy: 0.6596 - val_loss: 0.6609 - val_accuracy: 0.6629\n",
      "Epoch 99/100\n",
      " - 0s - loss: 0.6819 - accuracy: 0.6442 - val_loss: 0.6644 - val_accuracy: 0.6236\n",
      "Epoch 100/100\n",
      " - 0s - loss: 0.6952 - accuracy: 0.6399 - val_loss: 0.6825 - val_accuracy: 0.6124\n"
     ]
    }
   ],
   "source": [
    "# Train neural network\n",
    "history = network.fit(X_train, # Features\n",
    "                      y_train, # Target\n",
    "                      epochs=100, # Number of epochs\n",
    "                      verbose=2, # Some output\n",
    "                      batch_size=20, # Number of observations per batch\n",
    "                      validation_data=(X_test, y_test)) # Data for evaluation"
   ]
  },
  {
   "cell_type": "code",
   "execution_count": 15,
   "metadata": {},
   "outputs": [
    {
     "name": "stdout",
     "output_type": "stream",
     "text": [
      "178/178 [==============================] - 0s 403us/step\n"
     ]
    }
   ],
   "source": [
    "score = network.evaluate(X_test, y_test, batch_size=20)\n"
   ]
  },
  {
   "cell_type": "code",
   "execution_count": 16,
   "metadata": {},
   "outputs": [
    {
     "name": "stdout",
     "output_type": "stream",
     "text": [
      "\n",
      "accuracy: 61.24%\n"
     ]
    }
   ],
   "source": [
    "print(\"\\n%s: %.2f%%\" % (network.metrics_names[1], score[1]*100))"
   ]
  },
  {
   "cell_type": "markdown",
   "metadata": {},
   "source": [
    "## Create predictions"
   ]
  },
  {
   "cell_type": "code",
   "execution_count": 17,
   "metadata": {},
   "outputs": [
    {
     "name": "stdout",
     "output_type": "stream",
     "text": [
      "[1.0, 1.0, 1.0, 1.0, 1.0, 1.0, 1.0, 1.0, 1.0, 1.0, 1.0, 1.0, 1.0, 1.0, 1.0, 1.0, 1.0, 1.0, 1.0, 1.0, 1.0, 1.0, 1.0, 1.0, 1.0, 1.0, 1.0, 1.0, 1.0, 1.0, 1.0, 1.0, 1.0, 1.0, 1.0, 1.0, 1.0, 1.0, 1.0, 1.0, 1.0, 1.0, 1.0, 1.0, 1.0, 1.0, 1.0, 1.0, 1.0, 1.0, 1.0, 1.0, 1.0, 1.0, 1.0, 1.0, 1.0, 1.0, 1.0, 1.0, 1.0, 1.0, 1.0, 1.0, 1.0, 1.0, 1.0, 1.0, 1.0, 1.0, 1.0, 1.0, 1.0, 1.0, 1.0, 1.0, 1.0, 1.0, 1.0, 1.0, 1.0, 1.0, 1.0, 1.0, 1.0, 1.0, 1.0, 1.0, 1.0, 1.0, 1.0, 1.0, 1.0, 1.0, 1.0, 1.0, 1.0, 1.0, 1.0, 1.0, 1.0, 1.0, 1.0, 1.0, 1.0, 1.0, 1.0, 1.0, 1.0, 1.0, 1.0, 1.0, 1.0, 1.0, 1.0, 1.0, 1.0, 1.0, 1.0, 1.0, 1.0, 1.0, 1.0, 1.0, 1.0, 1.0, 1.0, 1.0, 1.0, 1.0, 1.0, 1.0, 1.0, 1.0, 1.0, 1.0, 1.0, 1.0, 1.0, 1.0, 1.0, 1.0, 1.0, 1.0, 1.0, 1.0, 1.0, 1.0, 1.0, 1.0, 1.0, 1.0, 1.0, 1.0, 1.0, 1.0, 1.0, 1.0, 1.0, 1.0, 1.0, 1.0, 1.0, 1.0, 1.0, 1.0, 1.0, 1.0, 1.0, 1.0, 1.0, 1.0, 1.0, 1.0, 1.0, 1.0, 1.0, 1.0]\n"
     ]
    }
   ],
   "source": [
    "# calculate predictions\n",
    "predictions = network.predict(X_test)\n",
    "# round predictions\n",
    "rounded = [round(x[0]) for x in predictions]\n",
    "print(rounded)"
   ]
  },
  {
   "cell_type": "code",
   "execution_count": 18,
   "metadata": {},
   "outputs": [
    {
     "data": {
      "text/plain": [
       "<Figure size 640x480 with 1 Axes>"
      ]
     },
     "metadata": {},
     "output_type": "display_data"
    }
   ],
   "source": [
    "import matplotlib.pyplot as plt\n",
    "\n",
    "# Get training and test loss histories\n",
    "training_loss = history.history['loss']\n",
    "test_loss = history.history['val_loss']\n",
    "\n",
    "# Create count of the number of epochs\n",
    "epoch_count = range(1, len(training_loss) + 1)\n",
    "\n",
    "# Visualize loss history\n",
    "plt.plot(epoch_count, training_loss, 'r--')\n",
    "plt.plot(epoch_count, test_loss, 'b-')\n",
    "plt.legend(['Training Loss', 'Test Loss'])\n",
    "plt.xlabel('Epoch')\n",
    "plt.ylabel('Loss')\n",
    "plt.show();"
   ]
  },
  {
   "cell_type": "markdown",
   "metadata": {},
   "source": [
    "https://chrisalbon.com/deep_learning/keras/visualize_loss_history/"
   ]
  },
  {
   "cell_type": "code",
   "execution_count": 19,
   "metadata": {
    "scrolled": true
   },
   "outputs": [
    {
     "data": {
      "image/png": "[encoded data removed]",
      "text/plain": [
       "<Figure size 432x288 with 1 Axes>"
      ]
     },
     "metadata": {
      "needs_background": "light"
     },
     "output_type": "display_data"
    }
   ],
   "source": [
    "# Get training and test accuracy histories\n",
    "training_accuracy = history.history['accuracy']\n",
    "test_accuracy = history.history['val_accuracy']\n",
    "\n",
    "# Create count of the number of epochs\n",
    "epoch_count = range(1, len(training_accuracy) + 1)\n",
    "\n",
    "# Visualize accuracy history\n",
    "plt.plot(epoch_count, training_accuracy, 'r--')\n",
    "plt.plot(epoch_count, test_accuracy, 'b-')\n",
    "plt.legend(['Training Accuracy', 'Test Accuracy'])\n",
    "plt.xlabel('Epoch')\n",
    "plt.ylabel('Accuracy Score')\n",
    "plt.show();"
   ]
  },
  {
   "cell_type": "code",
   "execution_count": 20,
   "metadata": {
    "scrolled": true
   },
   "outputs": [
    {
     "name": "stdout",
     "output_type": "stream",
     "text": [
      "Best: 0.471371 using {'batch_size': 25, 'epochs': 100}\n",
      "0.294490 (0.141610) with: {'batch_size': 10, 'epochs': 10}\n",
      "0.310572 (0.116800) with: {'batch_size': 10, 'epochs': 20}\n",
      "0.161201 (0.144546) with: {'batch_size': 10, 'epochs': 25}\n",
      "0.283420 (0.073211) with: {'batch_size': 10, 'epochs': 50}\n",
      "0.335335 (0.119117) with: {'batch_size': 10, 'epochs': 100}\n",
      "0.431011 (0.119711) with: {'batch_size': 15, 'epochs': 10}\n",
      "0.180457 (0.080015) with: {'batch_size': 15, 'epochs': 20}\n",
      "0.231074 (0.115736) with: {'batch_size': 15, 'epochs': 25}\n",
      "0.311002 (0.019737) with: {'batch_size': 15, 'epochs': 50}\n",
      "0.426294 (0.072508) with: {'batch_size': 15, 'epochs': 100}\n",
      "0.256334 (0.181407) with: {'batch_size': 20, 'epochs': 10}\n",
      "0.256385 (0.140978) with: {'batch_size': 20, 'epochs': 20}\n",
      "0.208959 (0.181852) with: {'batch_size': 20, 'epochs': 25}\n",
      "0.446145 (0.086915) with: {'batch_size': 20, 'epochs': 50}\n",
      "0.327871 (0.150473) with: {'batch_size': 20, 'epochs': 100}\n",
      "0.261724 (0.127942) with: {'batch_size': 25, 'epochs': 10}\n",
      "0.426804 (0.063211) with: {'batch_size': 25, 'epochs': 20}\n",
      "0.160674 (0.114358) with: {'batch_size': 25, 'epochs': 25}\n",
      "0.286908 (0.167092) with: {'batch_size': 25, 'epochs': 50}\n",
      "0.471371 (0.038582) with: {'batch_size': 25, 'epochs': 100}\n",
      "0.438063 (0.109796) with: {'batch_size': 30, 'epochs': 10}\n",
      "0.291667 (0.206244) with: {'batch_size': 30, 'epochs': 20}\n",
      "0.246059 (0.204200) with: {'batch_size': 30, 'epochs': 25}\n",
      "0.273086 (0.206719) with: {'batch_size': 30, 'epochs': 50}\n",
      "0.331087 (0.234118) with: {'batch_size': 30, 'epochs': 100}\n"
     ]
    }
   ],
   "source": [
    "# Use scikit-learn to grid search the batch size and epochs\n",
    "import numpy\n",
    "from sklearn.model_selection import GridSearchCV\n",
    "from keras.models import Sequential\n",
    "from keras.layers import Dense\n",
    "from keras.wrappers.scikit_learn import KerasClassifier\n",
    "\n",
    "# Function to create model, required for KerasClassifier\n",
    "def create_model():\n",
    "    # create model\n",
    "    model = Sequential()\n",
    "    model.add(Dense(12, input_dim=9, activation='relu'))\n",
    "    model.add(Dense(2, activation='relu'))\n",
    "    # Compile model\n",
    "    model.compile(loss='binary_crossentropy', optimizer='adam', metrics=['accuracy'])\n",
    "    return model\n",
    "# fix random seed for reproducibility\n",
    "seed = 7\n",
    "numpy.random.seed(seed)\n",
    "\n",
    "# create model\n",
    "model = KerasClassifier(build_fn=create_model, verbose=0)\n",
    "# define the grid search parameters\n",
    "batch_size = [10, 15, 20, 25, 30]\n",
    "epochs = [10, 20, 25, 50, 100]\n",
    "param_grid = dict(batch_size=batch_size, epochs=epochs)\n",
    "grid = GridSearchCV(estimator=model, param_grid=param_grid, n_jobs=-1, cv=3)\n",
    "grid_result = grid.fit(predictors, target)\n",
    "# summarize results\n",
    "print(\"Best: %f using %s\" % (grid_result.best_score_, grid_result.best_params_))\n",
    "means = grid_result.cv_results_['mean_test_score']\n",
    "stds = grid_result.cv_results_['std_test_score']\n",
    "params = grid_result.cv_results_['params']\n",
    "for mean, stdev, param in zip(means, stds, params):\n",
    "    print(\"%f (%f) with: %r\" % (mean, stdev, param))\n"
   ]
  },
  {
   "cell_type": "markdown",
   "metadata": {},
   "source": [
    "https://chrisalbon.com/deep_learning/keras/visualize_performance_history/"
   ]
  },
  {
   "cell_type": "markdown",
   "metadata": {},
   "source": [
    "## Resources \n",
    "\n",
    "http://neuralnetworksanddeeplearning.com/\n",
    "    \n",
    "http://colah.github.io/posts/2014-03-NN-Manifolds-Topology/\n",
    "\n",
    "https://www.youtube.com/playlist?list=PLZHQObOWTQDNU6R1_67000Dx_ZCJB-3pi"
   ]
  },
  {
   "cell_type": "markdown",
   "metadata": {},
   "source": [
    "https://chrisalbon.com/deep_learning/keras/visualize_neural_network_architecture/"
   ]
  }
 ],
 "metadata": {
  "kernelspec": {
   "display_name": "Python 3",
   "language": "python",
   "name": "python3"
  },
  "language_info": {
   "codemirror_mode": {
    "name": "ipython",
    "version": 3
   },
   "file_extension": ".py",
   "mimetype": "text/x-python",
   "name": "python",
   "nbconvert_exporter": "python",
   "pygments_lexer": "ipython3",
   "version": "3.7.3"
  }
 },
 "nbformat": 4,
 "nbformat_minor": 2
}
